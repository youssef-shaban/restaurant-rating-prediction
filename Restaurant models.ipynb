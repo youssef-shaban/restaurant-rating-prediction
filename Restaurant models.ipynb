{
  "nbformat": 4,
  "nbformat_minor": 0,
  "metadata": {
    "colab": {
      "name": "Untitled1.ipynb",
      "provenance": []
    },
    "kernelspec": {
      "name": "python3",
      "display_name": "Python 3"
    },
    "language_info": {
      "name": "python"
    }
  },
  "cells": [
    {
      "cell_type": "code",
      "metadata": {
        "id": "48AkNGIr8WX9"
      },
      "source": [
        "import seaborn as sns\n",
        "import matplotlib.pyplot as plt\n",
        "import pandas as pd\n",
        "import numpy as np\n",
        "\n",
        "row_data=pd.read_csv('/content/clean_data2.csv')\n",
        "df= row_data.copy()\n",
        "df.head()"
      ],
      "execution_count": null,
      "outputs": []
    },
    {
      "cell_type": "code",
      "metadata": {
        "id": "S-5LoOh89Ka1"
      },
      "source": [
        "df=df.drop(columns=['user_uuid','restaurant_uuid','cuisine'])"
      ],
      "execution_count": null,
      "outputs": []
    },
    {
      "cell_type": "code",
      "metadata": {
        "id": "ceh845mn-UOM"
      },
      "source": [
        "df=pd.get_dummies(df,drop_first=True)"
      ],
      "execution_count": null,
      "outputs": []
    },
    {
      "cell_type": "code",
      "metadata": {
        "id": "JXzVg0T2-Y8G"
      },
      "source": [
        "df=df.drop(columns='Unnamed: 0')"
      ],
      "execution_count": null,
      "outputs": []
    },
    {
      "cell_type": "code",
      "metadata": {
        "id": "8mMFsTZ8_B0w"
      },
      "source": [
        "from sklearn.model_selection import train_test_split\n",
        "from sklearn.linear_model import LogisticRegression\n",
        "from sklearn.metrics import classification_report, confusion_matrix, accuracy_score\n",
        "X=df.drop(columns='Ratings')\n",
        "y=df['Ratings']\n",
        "X_train, X_test, y_train, y_test = train_test_split(X, y, test_size=0.18, random_state=40)"
      ],
      "execution_count": null,
      "outputs": []
    },
    {
      "cell_type": "code",
      "metadata": {
        "colab": {
          "base_uri": "https://localhost:8080/"
        },
        "id": "KZNFhy-j_6Bh",
        "outputId": "8273e230-4d07-4caa-80cf-22282c273403"
      },
      "source": [
        "Lr=LogisticRegression(solver=\"liblinear\", random_state=0)\n",
        "Lr.fit(X_train,y_train)\n",
        "lr_pred=Lr.predict(X_test)\n",
        "print(classification_report(y_test,lr_pred))"
      ],
      "execution_count": null,
      "outputs": [
        {
          "output_type": "stream",
          "text": [
            "              precision    recall  f1-score   support\n",
            "\n",
            "           1       0.69      0.69      0.69      2220\n",
            "           2       0.65      0.53      0.58      2161\n",
            "           3       0.61      0.54      0.57      2555\n",
            "           4       0.70      0.70      0.70      3465\n",
            "           5       0.85      0.95      0.90      5478\n",
            "\n",
            "    accuracy                           0.74     15879\n",
            "   macro avg       0.70      0.68      0.69     15879\n",
            "weighted avg       0.73      0.74      0.73     15879\n",
            "\n"
          ],
          "name": "stdout"
        }
      ]
    },
    {
      "cell_type": "code",
      "metadata": {
        "colab": {
          "base_uri": "https://localhost:8080/"
        },
        "id": "_7jp2YQjBTQu",
        "outputId": "46aa7114-2e2d-4796-e16d-deeefa4425a0"
      },
      "source": [
        "from sklearn.svm import SVC\n",
        "\n",
        "svc = SVC(random_state=0)\n",
        "svc.fit(X_train, y_train)\n",
        "y_pred_svc = svc.predict(X_test)\n",
        "print(classification_report(y_test,y_pred_svc))"
      ],
      "execution_count": null,
      "outputs": [
        {
          "output_type": "stream",
          "text": [
            "              precision    recall  f1-score   support\n",
            "\n",
            "           1       0.00      0.00      0.00      2002\n",
            "           2       0.00      0.00      0.00      1885\n",
            "           3       0.00      0.00      0.00      2336\n",
            "           4       0.00      0.00      0.00      3149\n",
            "           5       0.34      1.00      0.51      4920\n",
            "\n",
            "    accuracy                           0.34     14292\n",
            "   macro avg       0.07      0.20      0.10     14292\n",
            "weighted avg       0.12      0.34      0.18     14292\n",
            "\n"
          ],
          "name": "stdout"
        },
        {
          "output_type": "stream",
          "text": [
            "/usr/local/lib/python3.7/dist-packages/sklearn/metrics/_classification.py:1272: UndefinedMetricWarning: Precision and F-score are ill-defined and being set to 0.0 in labels with no predicted samples. Use `zero_division` parameter to control this behavior.\n",
            "  _warn_prf(average, modifier, msg_start, len(result))\n"
          ],
          "name": "stderr"
        }
      ]
    },
    {
      "cell_type": "code",
      "metadata": {
        "colab": {
          "base_uri": "https://localhost:8080/"
        },
        "id": "By6dXktmBhTn",
        "outputId": "c1b5db34-da05-49a8-a05c-11c1a063c466"
      },
      "source": [
        "print(svc.score(X_test,y_test))"
      ],
      "execution_count": null,
      "outputs": [
        {
          "output_type": "stream",
          "text": [
            "0.34424853064651556\n"
          ],
          "name": "stdout"
        }
      ]
    },
    {
      "cell_type": "code",
      "metadata": {
        "colab": {
          "base_uri": "https://localhost:8080/",
          "height": 500
        },
        "id": "mS-wFoaFCfhp",
        "outputId": "af54727a-b4f0-443d-cc24-c91c0eddf251"
      },
      "source": [
        "# Import machine learning algorithmn\n",
        "from sklearn.ensemble import RandomForestClassifier\n",
        "from sklearn.metrics import plot_confusion_matrix\n",
        "# Instantiatie the classifier\n",
        "random_forest = RandomForestClassifier(max_samples=0.8,random_state=0)\n",
        "\n",
        "# Fit the model\n",
        "random_forest.fit(X_train, y_train)\n",
        "\n",
        "# Predict on test dataset\n",
        "y_pred_random_forest = random_forest.predict(X_test)\n",
        "\n",
        "# Print classification report on test dataset\n",
        "print(classification_report(y_test,y_pred_random_forest))\n",
        "plot_confusion_matrix(random_forest, X_test, y_test) \n",
        "print(random_forest.score(X_test,y_test))"
      ],
      "execution_count": null,
      "outputs": [
        {
          "output_type": "stream",
          "text": [
            "              precision    recall  f1-score   support\n",
            "\n",
            "           1       1.00      1.00      1.00      2002\n",
            "           2       0.99      1.00      0.99      1885\n",
            "           3       1.00      1.00      1.00      2336\n",
            "           4       1.00      1.00      1.00      3149\n",
            "           5       1.00      1.00      1.00      4920\n",
            "\n",
            "    accuracy                           1.00     14292\n",
            "   macro avg       1.00      1.00      1.00     14292\n",
            "weighted avg       1.00      1.00      1.00     14292\n",
            "\n",
            "0.9976910159529807\n"
          ],
          "name": "stdout"
        },
        {
          "output_type": "display_data",
          "data": {
            "image/png": "[encoded data removed]",
            "text/plain": [
              "<Figure size 432x288 with 2 Axes>"
            ]
          },
          "metadata": {
            "tags": [],
            "needs_background": "light"
          }
        }
      ]
    },
    {
      "cell_type": "code",
      "metadata": {
        "colab": {
          "base_uri": "https://localhost:8080/"
        },
        "id": "8xHjCrYvC_Om",
        "outputId": "a701496d-be83-4d90-ecab-4b2fa333562e"
      },
      "source": [
        "from sklearn.ensemble import GradientBoostingClassifier as GBC\n",
        "\n",
        "gbt = GBC(n_estimators=300, max_depth=1, random_state=15)\n",
        "gbt.fit(X_train,y_train)\n",
        "y_pred_gbt = gbt.predict(X_test)\n",
        "\n",
        "# Print classification report on test dataset\n",
        "print(classification_report(y_test,y_pred_gbt))\n",
        "print(gbt.score(X_test,y_test))"
      ],
      "execution_count": null,
      "outputs": [
        {
          "output_type": "stream",
          "text": [
            "              precision    recall  f1-score   support\n",
            "\n",
            "           1       0.58      0.59      0.59      2220\n",
            "           2       0.58      0.41      0.48      2161\n",
            "           3       0.53      0.36      0.43      2555\n",
            "           4       0.64      0.58      0.61      3465\n",
            "           5       0.70      0.92      0.79      5478\n",
            "\n",
            "    accuracy                           0.64     15879\n",
            "   macro avg       0.61      0.57      0.58     15879\n",
            "weighted avg       0.63      0.64      0.62     15879\n",
            "\n",
            "0.6396498520057938\n"
          ],
          "name": "stdout"
        }
      ]
    },
    {
      "cell_type": "code",
      "metadata": {
        "colab": {
          "base_uri": "https://localhost:8080/"
        },
        "id": "BW5axRSqEciX",
        "outputId": "f047bac8-1f2f-460e-8504-a952240b8860"
      },
      "source": [
        "from sklearn.model_selection import GridSearchCV\n",
        "params_rf = {'n_estimators': [300, 400, 500],\n",
        "             'max_depth': [4, 6, 8],\n",
        "             'min_samples_leaf': [0.1, 0.2],\n",
        "             'max_features': ['log2', 'sqrt']\n",
        "             }\n",
        "grid_rf = GridSearchCV(estimator=random_forest,\n",
        "                       param_grid=params_rf,\n",
        "                       cv=5,\n",
        "                       scoring='accuracy',\n",
        "                       verbose=1,\n",
        "                       n_jobs=-1\n",
        "                       )\n",
        "grid_rf.fit(X_train,y_train)\n",
        "best_model = grid_rf.best_estimator_\n",
        "\n",
        "\n",
        "best_random = best_model.predict(X_test)\n",
        "print(classification_report(y_test,best_random))\n",
        "print(best_model.score(X_test,y_test))"
      ],
      "execution_count": null,
      "outputs": [
        {
          "output_type": "stream",
          "text": [
            "Fitting 5 folds for each of 36 candidates, totalling 180 fits\n"
          ],
          "name": "stdout"
        },
        {
          "output_type": "stream",
          "text": [
            "[Parallel(n_jobs=-1)]: Using backend LokyBackend with 2 concurrent workers.\n",
            "[Parallel(n_jobs=-1)]: Done  46 tasks      | elapsed:  2.6min\n",
            "[Parallel(n_jobs=-1)]: Done 180 out of 180 | elapsed: 10.2min finished\n",
            "/usr/local/lib/python3.7/dist-packages/sklearn/metrics/_classification.py:1272: UndefinedMetricWarning: Precision and F-score are ill-defined and being set to 0.0 in labels with no predicted samples. Use `zero_division` parameter to control this behavior.\n",
            "  _warn_prf(average, modifier, msg_start, len(result))\n"
          ],
          "name": "stderr"
        },
        {
          "output_type": "stream",
          "text": [
            "              precision    recall  f1-score   support\n",
            "\n",
            "           1       0.00      0.00      0.00      2220\n",
            "           2       0.00      0.00      0.00      2161\n",
            "           3       0.00      0.00      0.00      2555\n",
            "           4       0.00      0.00      0.00      3465\n",
            "           5       0.34      1.00      0.51      5478\n",
            "\n",
            "    accuracy                           0.34     15879\n",
            "   macro avg       0.07      0.20      0.10     15879\n",
            "weighted avg       0.12      0.34      0.18     15879\n",
            "\n",
            "0.34498394105422253\n"
          ],
          "name": "stdout"
        }
      ]
    },
    {
      "cell_type": "code",
      "metadata": {
        "colab": {
          "base_uri": "https://localhost:8080/"
        },
        "id": "zb0DZ12wG3PW",
        "outputId": "1af50331-e9e5-4c2c-be5e-41e8af178de0"
      },
      "source": [
        "# Import machine learning algorithmn\n",
        "from sklearn.ensemble import RandomForestClassifier\n",
        "\n",
        "# Instantiatie the classifier\n",
        "random_forest = RandomForestClassifier(n_estimators=200,criterion='entropy',random_state=0)\n",
        "\n",
        "# Fit the model\n",
        "random_forest.fit(X_train, y_train)\n",
        "\n",
        "# Predict on test dataset\n",
        "y_pred_random_forest = random_forest.predict(X_test)\n",
        "\n",
        "# Print classification report on test dataset\n",
        "print(classification_report(y_test,y_pred_random_forest))\n",
        "print(random_forest.score(X_test,y_test))"
      ],
      "execution_count": null,
      "outputs": [
        {
          "output_type": "stream",
          "text": [
            "              precision    recall  f1-score   support\n",
            "\n",
            "           1       1.00      1.00      1.00      2002\n",
            "           2       0.99      1.00      0.99      1885\n",
            "           3       1.00      1.00      1.00      2336\n",
            "           4       1.00      1.00      1.00      3149\n",
            "           5       1.00      1.00      1.00      4920\n",
            "\n",
            "    accuracy                           1.00     14292\n",
            "   macro avg       1.00      1.00      1.00     14292\n",
            "weighted avg       1.00      1.00      1.00     14292\n",
            "\n",
            "0.9975510775258886\n"
          ],
          "name": "stdout"
        }
      ]
    },
    {
      "cell_type": "code",
      "metadata": {
        "colab": {
          "base_uri": "https://localhost:8080/"
        },
        "id": "y17G2fl8JsQv",
        "outputId": "44f3306c-0e20-45c9-956f-d66666ada630"
      },
      "source": [
        "from sklearn.ensemble import AdaBoostClassifier\n",
        "from sklearn.tree import DecisionTreeClassifier\n",
        "dt = DecisionTreeClassifier(max_depth=1, random_state=12)\n",
        "adb_clf = AdaBoostClassifier(base_estimator=dt, n_estimators=100)\n",
        "adb_clf.fit(X_train, y_train)\n",
        "adb_pred=adb_clf.predict(X_test)\n",
        "print(classification_report(y_test,adb_pred))\n",
        "print(adb_clf.score(X_test,y_test))"
      ],
      "execution_count": null,
      "outputs": [
        {
          "output_type": "stream",
          "text": [
            "              precision    recall  f1-score   support\n",
            "\n",
            "           1       0.44      0.61      0.51      2002\n",
            "           2       0.34      0.24      0.28      1885\n",
            "           3       0.38      0.35      0.36      2336\n",
            "           4       0.42      0.56      0.48      3149\n",
            "           5       0.78      0.60      0.67      4920\n",
            "\n",
            "    accuracy                           0.50     14292\n",
            "   macro avg       0.47      0.47      0.46     14292\n",
            "weighted avg       0.53      0.50      0.51     14292\n",
            "\n",
            "0.5026588301147495\n"
          ],
          "name": "stdout"
        }
      ]
    },
    {
      "cell_type": "code",
      "metadata": {
        "colab": {
          "base_uri": "https://localhost:8080/"
        },
        "id": "94e7NVEzK2zw",
        "outputId": "6ed6e451-27fc-45d6-d0ac-807837c6f7f3"
      },
      "source": [
        "from sklearn.neighbors import KNeighborsClassifier\n",
        "knn = KNeighborsClassifier(n_neighbors=15)\n",
        "knn.fit(X_train,y_train)\n",
        "knn_pred=knn.predict(X_test)\n",
        "print(classification_report(y_test,knn_pred))\n",
        "print(knn.score(X_test,y_test))"
      ],
      "execution_count": null,
      "outputs": [
        {
          "output_type": "stream",
          "text": [
            "              precision    recall  f1-score   support\n",
            "\n",
            "           1       0.14      0.09      0.11      2002\n",
            "           2       0.14      0.07      0.09      1885\n",
            "           3       0.15      0.09      0.12      2336\n",
            "           4       0.21      0.21      0.21      3149\n",
            "           5       0.34      0.54      0.42      4920\n",
            "\n",
            "    accuracy                           0.27     14292\n",
            "   macro avg       0.20      0.20      0.19     14292\n",
            "weighted avg       0.23      0.27      0.24     14292\n",
            "\n",
            "0.2663727959697733\n"
          ],
          "name": "stdout"
        }
      ]
    },
    {
      "cell_type": "code",
      "metadata": {
        "id": "41ElKMycLcZo"
      },
      "source": [
        ""
      ],
      "execution_count": null,
      "outputs": []
    }
  ]
}